{
  "nbformat": 4,
  "nbformat_minor": 0,
  "metadata": {
    "colab": {
      "provenance": []
    },
    "kernelspec": {
      "name": "python3",
      "display_name": "Python 3"
    },
    "language_info": {
      "name": "python"
    }
  },
  "cells": [
    {
      "cell_type": "code",
      "source": [],
      "metadata": {
        "id": "eZJoC13LXg0f"
      },
      "execution_count": null,
      "outputs": []
    },
    {
      "cell_type": "markdown",
      "source": [],
      "metadata": {
        "id": "fTTslx4mXZL6"
      }
    },
    {
      "cell_type": "markdown",
      "source": [
        "# **Workflow AI Agent with Multi Tool Orchestration (RAG, Email Tool, Slack Notification Tool, Flight Booking Tool)**\n"
      ],
      "metadata": {
        "id": "oSUKQG6KPL6Y"
      }
    },
    {
      "cell_type": "markdown",
      "source": [
        "✅ This sample code shows RAG is inside the Agent as a knowledge tool.\n",
        "The agent is “smart” enough to both retrieve info\n",
        "workflow-style AI Agent where the agent can chain multiple tools in sequence automatically.\n",
        "\n",
        "This simulates a real enterprise orchestration:\n",
        "\n",
        "Step 1️⃣ Look up HR leave policy (RAG).\n",
        "\n",
        "Step 2️⃣ Summarize it.\n",
        "\n",
        "Step 3️⃣ Send email to manager.\n",
        "\n",
        "Step 4️⃣ Confirm delivery via Slack (simulated tool).(RAG) and take action (send email)."
      ],
      "metadata": {
        "id": "O9_4wyjZPa-Y"
      }
    },
    {
      "cell_type": "markdown",
      "source": [
        "Fully autonomous loop agent (like AutoGPT style), where it keeps planning next steps until the workflow is done — instead of a single instruction"
      ],
      "metadata": {
        "id": "tHNmurWkZvBT"
      }
    },
    {
      "cell_type": "markdown",
      "source": [
        "**Fully autonomous loop agent**\n",
        "(like AutoGPT / BabyAGI style), where the agent:\n",
        "\n",
        "*   Keeps a **plan** in memory.\n",
        "*   Executes one step at a time.\n",
        "*   Evaluates if the goal is achieved.\n",
        "*   Decides the **next action** until completion.\n",
        "*   This is a common enterprise pattern for autonomous task execution.\n"
      ],
      "metadata": {
        "id": "Qgq9ZoBubYV3"
      }
    },
    {
      "cell_type": "code",
      "execution_count": 3,
      "metadata": {
        "colab": {
          "base_uri": "https://localhost:8080/"
        },
        "id": "EwPFc7W-BRR4",
        "outputId": "3966ddcb-053f-4faf-9693-15c55fb4fe0d"
      },
      "outputs": [
        {
          "output_type": "stream",
          "name": "stdout",
          "text": [
            "Requirement already satisfied: langchain in /usr/local/lib/python3.12/dist-packages (0.3.27)\n",
            "Requirement already satisfied: langchain-openai in /usr/local/lib/python3.12/dist-packages (0.3.32)\n",
            "Requirement already satisfied: faiss-cpu in /usr/local/lib/python3.12/dist-packages (1.12.0)\n",
            "Requirement already satisfied: openai in /usr/local/lib/python3.12/dist-packages (1.106.0)\n",
            "Requirement already satisfied: langchain-core<1.0.0,>=0.3.72 in /usr/local/lib/python3.12/dist-packages (from langchain) (0.3.75)\n",
            "Requirement already satisfied: langchain-text-splitters<1.0.0,>=0.3.9 in /usr/local/lib/python3.12/dist-packages (from langchain) (0.3.11)\n",
            "Requirement already satisfied: langsmith>=0.1.17 in /usr/local/lib/python3.12/dist-packages (from langchain) (0.4.23)\n",
            "Requirement already satisfied: pydantic<3.0.0,>=2.7.4 in /usr/local/lib/python3.12/dist-packages (from langchain) (2.9.2)\n",
            "Requirement already satisfied: SQLAlchemy<3,>=1.4 in /usr/local/lib/python3.12/dist-packages (from langchain) (2.0.43)\n",
            "Requirement already satisfied: requests<3,>=2 in /usr/local/lib/python3.12/dist-packages (from langchain) (2.32.5)\n",
            "Requirement already satisfied: PyYAML>=5.3 in /usr/local/lib/python3.12/dist-packages (from langchain) (6.0.2)\n",
            "Requirement already satisfied: tiktoken<1,>=0.7 in /usr/local/lib/python3.12/dist-packages (from langchain-openai) (0.11.0)\n",
            "Requirement already satisfied: numpy<3.0,>=1.25.0 in /usr/local/lib/python3.12/dist-packages (from faiss-cpu) (2.0.2)\n",
            "Requirement already satisfied: packaging in /usr/local/lib/python3.12/dist-packages (from faiss-cpu) (25.0)\n",
            "Requirement already satisfied: anyio<5,>=3.5.0 in /usr/local/lib/python3.12/dist-packages (from openai) (4.10.0)\n",
            "Requirement already satisfied: distro<2,>=1.7.0 in /usr/local/lib/python3.12/dist-packages (from openai) (1.9.0)\n",
            "Requirement already satisfied: httpx<1,>=0.23.0 in /usr/local/lib/python3.12/dist-packages (from openai) (0.28.1)\n",
            "Requirement already satisfied: jiter<1,>=0.4.0 in /usr/local/lib/python3.12/dist-packages (from openai) (0.10.0)\n",
            "Requirement already satisfied: sniffio in /usr/local/lib/python3.12/dist-packages (from openai) (1.3.1)\n",
            "Requirement already satisfied: tqdm>4 in /usr/local/lib/python3.12/dist-packages (from openai) (4.67.1)\n",
            "Requirement already satisfied: typing-extensions<5,>=4.11 in /usr/local/lib/python3.12/dist-packages (from openai) (4.15.0)\n",
            "Requirement already satisfied: idna>=2.8 in /usr/local/lib/python3.12/dist-packages (from anyio<5,>=3.5.0->openai) (3.10)\n",
            "Requirement already satisfied: certifi in /usr/local/lib/python3.12/dist-packages (from httpx<1,>=0.23.0->openai) (2025.8.3)\n",
            "Requirement already satisfied: httpcore==1.* in /usr/local/lib/python3.12/dist-packages (from httpx<1,>=0.23.0->openai) (1.0.9)\n",
            "Requirement already satisfied: h11>=0.16 in /usr/local/lib/python3.12/dist-packages (from httpcore==1.*->httpx<1,>=0.23.0->openai) (0.16.0)\n",
            "Requirement already satisfied: tenacity!=8.4.0,<10.0.0,>=8.1.0 in /usr/local/lib/python3.12/dist-packages (from langchain-core<1.0.0,>=0.3.72->langchain) (8.5.0)\n",
            "Requirement already satisfied: jsonpatch<2.0,>=1.33 in /usr/local/lib/python3.12/dist-packages (from langchain-core<1.0.0,>=0.3.72->langchain) (1.33)\n",
            "Requirement already satisfied: orjson>=3.9.14 in /usr/local/lib/python3.12/dist-packages (from langsmith>=0.1.17->langchain) (3.11.3)\n",
            "Requirement already satisfied: requests-toolbelt>=1.0.0 in /usr/local/lib/python3.12/dist-packages (from langsmith>=0.1.17->langchain) (1.0.0)\n",
            "Requirement already satisfied: zstandard>=0.23.0 in /usr/local/lib/python3.12/dist-packages (from langsmith>=0.1.17->langchain) (0.24.0)\n",
            "Requirement already satisfied: annotated-types>=0.6.0 in /usr/local/lib/python3.12/dist-packages (from pydantic<3.0.0,>=2.7.4->langchain) (0.7.0)\n",
            "Requirement already satisfied: pydantic-core==2.23.4 in /usr/local/lib/python3.12/dist-packages (from pydantic<3.0.0,>=2.7.4->langchain) (2.23.4)\n",
            "Requirement already satisfied: charset_normalizer<4,>=2 in /usr/local/lib/python3.12/dist-packages (from requests<3,>=2->langchain) (3.4.3)\n",
            "Requirement already satisfied: urllib3<3,>=1.21.1 in /usr/local/lib/python3.12/dist-packages (from requests<3,>=2->langchain) (2.5.0)\n",
            "Requirement already satisfied: greenlet>=1 in /usr/local/lib/python3.12/dist-packages (from SQLAlchemy<3,>=1.4->langchain) (3.2.4)\n",
            "Requirement already satisfied: regex>=2022.1.18 in /usr/local/lib/python3.12/dist-packages (from tiktoken<1,>=0.7->langchain-openai) (2024.11.6)\n",
            "Requirement already satisfied: jsonpointer>=1.9 in /usr/local/lib/python3.12/dist-packages (from jsonpatch<2.0,>=1.33->langchain-core<1.0.0,>=0.3.72->langchain) (3.0.0)\n",
            "Requirement already satisfied: langchain-community in /usr/local/lib/python3.12/dist-packages (0.3.29)\n",
            "Requirement already satisfied: langchain-core<2.0.0,>=0.3.75 in /usr/local/lib/python3.12/dist-packages (from langchain-community) (0.3.75)\n",
            "Requirement already satisfied: langchain<2.0.0,>=0.3.27 in /usr/local/lib/python3.12/dist-packages (from langchain-community) (0.3.27)\n",
            "Requirement already satisfied: SQLAlchemy<3,>=1.4 in /usr/local/lib/python3.12/dist-packages (from langchain-community) (2.0.43)\n",
            "Requirement already satisfied: requests<3,>=2.32.5 in /usr/local/lib/python3.12/dist-packages (from langchain-community) (2.32.5)\n",
            "Requirement already satisfied: PyYAML>=5.3 in /usr/local/lib/python3.12/dist-packages (from langchain-community) (6.0.2)\n",
            "Requirement already satisfied: aiohttp<4.0.0,>=3.8.3 in /usr/local/lib/python3.12/dist-packages (from langchain-community) (3.12.15)\n",
            "Requirement already satisfied: tenacity!=8.4.0,<10,>=8.1.0 in /usr/local/lib/python3.12/dist-packages (from langchain-community) (8.5.0)\n",
            "Requirement already satisfied: dataclasses-json<0.7,>=0.6.7 in /usr/local/lib/python3.12/dist-packages (from langchain-community) (0.6.7)\n",
            "Requirement already satisfied: pydantic-settings<3.0.0,>=2.10.1 in /usr/local/lib/python3.12/dist-packages (from langchain-community) (2.10.1)\n",
            "Requirement already satisfied: langsmith>=0.1.125 in /usr/local/lib/python3.12/dist-packages (from langchain-community) (0.4.23)\n",
            "Requirement already satisfied: httpx-sse<1.0.0,>=0.4.0 in /usr/local/lib/python3.12/dist-packages (from langchain-community) (0.4.1)\n",
            "Requirement already satisfied: numpy>=1.26.2 in /usr/local/lib/python3.12/dist-packages (from langchain-community) (2.0.2)\n",
            "Requirement already satisfied: aiohappyeyeballs>=2.5.0 in /usr/local/lib/python3.12/dist-packages (from aiohttp<4.0.0,>=3.8.3->langchain-community) (2.6.1)\n",
            "Requirement already satisfied: aiosignal>=1.4.0 in /usr/local/lib/python3.12/dist-packages (from aiohttp<4.0.0,>=3.8.3->langchain-community) (1.4.0)\n",
            "Requirement already satisfied: attrs>=17.3.0 in /usr/local/lib/python3.12/dist-packages (from aiohttp<4.0.0,>=3.8.3->langchain-community) (25.3.0)\n",
            "Requirement already satisfied: frozenlist>=1.1.1 in /usr/local/lib/python3.12/dist-packages (from aiohttp<4.0.0,>=3.8.3->langchain-community) (1.7.0)\n",
            "Requirement already satisfied: multidict<7.0,>=4.5 in /usr/local/lib/python3.12/dist-packages (from aiohttp<4.0.0,>=3.8.3->langchain-community) (6.6.4)\n",
            "Requirement already satisfied: propcache>=0.2.0 in /usr/local/lib/python3.12/dist-packages (from aiohttp<4.0.0,>=3.8.3->langchain-community) (0.3.2)\n",
            "Requirement already satisfied: yarl<2.0,>=1.17.0 in /usr/local/lib/python3.12/dist-packages (from aiohttp<4.0.0,>=3.8.3->langchain-community) (1.20.1)\n",
            "Requirement already satisfied: marshmallow<4.0.0,>=3.18.0 in /usr/local/lib/python3.12/dist-packages (from dataclasses-json<0.7,>=0.6.7->langchain-community) (3.26.1)\n",
            "Requirement already satisfied: typing-inspect<1,>=0.4.0 in /usr/local/lib/python3.12/dist-packages (from dataclasses-json<0.7,>=0.6.7->langchain-community) (0.9.0)\n",
            "Requirement already satisfied: langchain-text-splitters<1.0.0,>=0.3.9 in /usr/local/lib/python3.12/dist-packages (from langchain<2.0.0,>=0.3.27->langchain-community) (0.3.11)\n",
            "Requirement already satisfied: pydantic<3.0.0,>=2.7.4 in /usr/local/lib/python3.12/dist-packages (from langchain<2.0.0,>=0.3.27->langchain-community) (2.9.2)\n",
            "Requirement already satisfied: jsonpatch<2.0,>=1.33 in /usr/local/lib/python3.12/dist-packages (from langchain-core<2.0.0,>=0.3.75->langchain-community) (1.33)\n",
            "Requirement already satisfied: typing-extensions>=4.7 in /usr/local/lib/python3.12/dist-packages (from langchain-core<2.0.0,>=0.3.75->langchain-community) (4.15.0)\n",
            "Requirement already satisfied: packaging>=23.2 in /usr/local/lib/python3.12/dist-packages (from langchain-core<2.0.0,>=0.3.75->langchain-community) (25.0)\n",
            "Requirement already satisfied: httpx<1,>=0.23.0 in /usr/local/lib/python3.12/dist-packages (from langsmith>=0.1.125->langchain-community) (0.28.1)\n",
            "Requirement already satisfied: orjson>=3.9.14 in /usr/local/lib/python3.12/dist-packages (from langsmith>=0.1.125->langchain-community) (3.11.3)\n",
            "Requirement already satisfied: requests-toolbelt>=1.0.0 in /usr/local/lib/python3.12/dist-packages (from langsmith>=0.1.125->langchain-community) (1.0.0)\n",
            "Requirement already satisfied: zstandard>=0.23.0 in /usr/local/lib/python3.12/dist-packages (from langsmith>=0.1.125->langchain-community) (0.24.0)\n",
            "Requirement already satisfied: python-dotenv>=0.21.0 in /usr/local/lib/python3.12/dist-packages (from pydantic-settings<3.0.0,>=2.10.1->langchain-community) (1.1.1)\n",
            "Requirement already satisfied: typing-inspection>=0.4.0 in /usr/local/lib/python3.12/dist-packages (from pydantic-settings<3.0.0,>=2.10.1->langchain-community) (0.4.1)\n",
            "Requirement already satisfied: charset_normalizer<4,>=2 in /usr/local/lib/python3.12/dist-packages (from requests<3,>=2.32.5->langchain-community) (3.4.3)\n",
            "Requirement already satisfied: idna<4,>=2.5 in /usr/local/lib/python3.12/dist-packages (from requests<3,>=2.32.5->langchain-community) (3.10)\n",
            "Requirement already satisfied: urllib3<3,>=1.21.1 in /usr/local/lib/python3.12/dist-packages (from requests<3,>=2.32.5->langchain-community) (2.5.0)\n",
            "Requirement already satisfied: certifi>=2017.4.17 in /usr/local/lib/python3.12/dist-packages (from requests<3,>=2.32.5->langchain-community) (2025.8.3)\n",
            "Requirement already satisfied: greenlet>=1 in /usr/local/lib/python3.12/dist-packages (from SQLAlchemy<3,>=1.4->langchain-community) (3.2.4)\n",
            "Requirement already satisfied: anyio in /usr/local/lib/python3.12/dist-packages (from httpx<1,>=0.23.0->langsmith>=0.1.125->langchain-community) (4.10.0)\n",
            "Requirement already satisfied: httpcore==1.* in /usr/local/lib/python3.12/dist-packages (from httpx<1,>=0.23.0->langsmith>=0.1.125->langchain-community) (1.0.9)\n",
            "Requirement already satisfied: h11>=0.16 in /usr/local/lib/python3.12/dist-packages (from httpcore==1.*->httpx<1,>=0.23.0->langsmith>=0.1.125->langchain-community) (0.16.0)\n",
            "Requirement already satisfied: jsonpointer>=1.9 in /usr/local/lib/python3.12/dist-packages (from jsonpatch<2.0,>=1.33->langchain-core<2.0.0,>=0.3.75->langchain-community) (3.0.0)\n",
            "Requirement already satisfied: annotated-types>=0.6.0 in /usr/local/lib/python3.12/dist-packages (from pydantic<3.0.0,>=2.7.4->langchain<2.0.0,>=0.3.27->langchain-community) (0.7.0)\n",
            "Requirement already satisfied: pydantic-core==2.23.4 in /usr/local/lib/python3.12/dist-packages (from pydantic<3.0.0,>=2.7.4->langchain<2.0.0,>=0.3.27->langchain-community) (2.23.4)\n",
            "Requirement already satisfied: mypy-extensions>=0.3.0 in /usr/local/lib/python3.12/dist-packages (from typing-inspect<1,>=0.4.0->dataclasses-json<0.7,>=0.6.7->langchain-community) (1.1.0)\n",
            "Requirement already satisfied: sniffio>=1.1 in /usr/local/lib/python3.12/dist-packages (from anyio->httpx<1,>=0.23.0->langsmith>=0.1.125->langchain-community) (1.3.1)\n",
            "Collecting pydantic==2.11.0\n",
            "  Downloading pydantic-2.11.0-py3-none-any.whl.metadata (63 kB)\n",
            "\u001b[2K     \u001b[90m━━━━━━━━━━━━━━━━━━━━━━━━━━━━━━━━━━━━━━━━\u001b[0m \u001b[32m63.1/63.1 kB\u001b[0m \u001b[31m1.8 MB/s\u001b[0m eta \u001b[36m0:00:00\u001b[0m\n",
            "\u001b[?25hRequirement already satisfied: annotated-types>=0.6.0 in /usr/local/lib/python3.12/dist-packages (from pydantic==2.11.0) (0.7.0)\n",
            "Collecting pydantic-core==2.33.0 (from pydantic==2.11.0)\n",
            "  Downloading pydantic_core-2.33.0-cp312-cp312-manylinux_2_17_x86_64.manylinux2014_x86_64.whl.metadata (6.8 kB)\n",
            "Requirement already satisfied: typing-extensions>=4.12.2 in /usr/local/lib/python3.12/dist-packages (from pydantic==2.11.0) (4.15.0)\n",
            "Requirement already satisfied: typing-inspection>=0.4.0 in /usr/local/lib/python3.12/dist-packages (from pydantic==2.11.0) (0.4.1)\n",
            "Downloading pydantic-2.11.0-py3-none-any.whl (442 kB)\n",
            "\u001b[2K   \u001b[90m━━━━━━━━━━━━━━━━━━━━━━━━━━━━━━━━━━━━━━━━\u001b[0m \u001b[32m442.6/442.6 kB\u001b[0m \u001b[31m10.7 MB/s\u001b[0m eta \u001b[36m0:00:00\u001b[0m\n",
            "\u001b[?25hDownloading pydantic_core-2.33.0-cp312-cp312-manylinux_2_17_x86_64.manylinux2014_x86_64.whl (2.0 MB)\n",
            "\u001b[2K   \u001b[90m━━━━━━━━━━━━━━━━━━━━━━━━━━━━━━━━━━━━━━━━\u001b[0m \u001b[32m2.0/2.0 MB\u001b[0m \u001b[31m42.5 MB/s\u001b[0m eta \u001b[36m0:00:00\u001b[0m\n",
            "\u001b[?25hInstalling collected packages: pydantic-core, pydantic\n",
            "  Attempting uninstall: pydantic-core\n",
            "    Found existing installation: pydantic_core 2.23.4\n",
            "    Uninstalling pydantic_core-2.23.4:\n",
            "      Successfully uninstalled pydantic_core-2.23.4\n",
            "  Attempting uninstall: pydantic\n",
            "    Found existing installation: pydantic 2.9.2\n",
            "    Uninstalling pydantic-2.9.2:\n",
            "      Successfully uninstalled pydantic-2.9.2\n",
            "Successfully installed pydantic-2.11.0 pydantic-core-2.33.0\n"
          ]
        }
      ],
      "source": [
        "!pip install langchain langchain-openai faiss-cpu openai\n",
        "!pip install -U langchain-community\n",
        "!pip install pydantic==2.11.0"
      ]
    },
    {
      "cell_type": "code",
      "source": [
        "import os\n",
        "from google.colab import userdata\n",
        "os.environ[\"OPENAI_API_KEY\"] = userdata.get(\"OPENAI_APIKEY\")\n",
        "\n",
        "import time"
      ],
      "metadata": {
        "id": "ZQaZRRVCDZu9"
      },
      "execution_count": 44,
      "outputs": []
    },
    {
      "cell_type": "code",
      "source": [
        "# Load documents & create vector store (RAG setup)\n",
        "from langchain_openai import ChatOpenAI, OpenAIEmbeddings\n",
        "from langchain_community.vectorstores import FAISS # Import FAISS from langchain_community\n",
        "from langchain.text_splitter import CharacterTextSplitter\n",
        "from langchain.docstore.document import Document\n",
        "from langchain.chains import RetrievalQA\n",
        "from langchain.agents import initialize_agent, AgentType, tool"
      ],
      "metadata": {
        "id": "AaB0GtbABqlU"
      },
      "execution_count": 24,
      "outputs": []
    },
    {
      "cell_type": "code",
      "source": [
        "# Example HR policy text\n",
        "hr_policy = \"\"\"\n",
        "Employees are entitled to 20 paid leave days per year.\n",
        "Unused leaves cannot be carried forward.\n",
        "Sick leave requires a doctor’s certificate if more than 3 days.\n",
        "\"\"\"\n",
        "\n",
        "# Split into chunks\n",
        "splitter = CharacterTextSplitter(chunk_size=200, chunk_overlap=20)\n",
        "docs = splitter.split_documents([Document(page_content=hr_policy)])"
      ],
      "metadata": {
        "id": "9-9I3Xi1CPfw"
      },
      "execution_count": 25,
      "outputs": []
    },
    {
      "cell_type": "code",
      "source": [
        "# Create embeddings + vector store\n",
        "embeddings = OpenAIEmbeddings(model=\"text-embedding-3-small\")\n",
        "vectorstore = FAISS.from_documents(docs, embeddings)\n",
        "\n",
        "# Create retriever for RAG\n",
        "retriever = vectorstore.as_retriever()"
      ],
      "metadata": {
        "id": "cZgtVtdQCcIg"
      },
      "execution_count": 26,
      "outputs": []
    },
    {
      "cell_type": "markdown",
      "source": [
        "**Define Tools**"
      ],
      "metadata": {
        "id": "JpwTzLAJQXmE"
      }
    },
    {
      "cell_type": "code",
      "source": [
        "from langchain.agents import tool\n",
        "\n",
        "# Email Tool\n",
        "@tool\n",
        "def send_email(to: str, subject: str, body: str):\n",
        "    \"\"\"Send an email to the given address with subject and body.\"\"\"\n",
        "    print(f\"📧 Email sent to {to}\\nSubject: {subject}\\nBody: {body}\")\n",
        "    return \"Email sent successfully.\"\n"
      ],
      "metadata": {
        "id": "7jOORAMdK3lt"
      },
      "execution_count": 39,
      "outputs": []
    },
    {
      "cell_type": "code",
      "source": [
        "# Slack Notification Tool\n",
        "@tool\n",
        "def notify_slack(channel: str, message: str):\n",
        "    \"\"\"Send a Slack notification to a given channel.\"\"\"\n",
        "    print(f\"💬 Slack message to {channel}: {message}\")\n",
        "    return \"Slack notification sent.\""
      ],
      "metadata": {
        "id": "juReqRGRXyCs"
      },
      "execution_count": 38,
      "outputs": []
    },
    {
      "cell_type": "code",
      "source": [
        "@tool\n",
        "def hr_policy_lookup(query: str):\n",
        "    \"\"\"Look up HR policy details from company documents.\"\"\"\n",
        "    return rag_chain.run(query)"
      ],
      "metadata": {
        "id": "VScIml3ZcbcK"
      },
      "execution_count": 45,
      "outputs": []
    },
    {
      "cell_type": "code",
      "source": [
        "# Flight Booking Tool\n",
        "@tool\n",
        "def book_flight(from_city: str, to_city: str, date: str, budget: int):\n",
        "    \"\"\"Book a flight given origin, destination, date, and budget.\"\"\"\n",
        "    # Fake database of flights\n",
        "    flights = [\n",
        "        {\"airline\": \"AirOne\", \"price\": 250, \"from\": \"New York\", \"to\": \"Chicago\"},\n",
        "        {\"airline\": \"SkyJet\", \"price\": 320, \"from\": \"New York\", \"to\": \"Chicago\"},\n",
        "        {\"airline\": \"BudgetAir\", \"price\": 180, \"from\": \"Boston\", \"to\": \"Chicago\"}\n",
        "    ]\n",
        "    options = [f for f in flights if f[\"from\"] == from_city and f[\"to\"] == to_city and f[\"price\"] <= budget]\n",
        "    if not options:\n",
        "        return f\"No flights found under ${budget} from {from_city} to {to_city} on {date}.\"\n",
        "    chosen = options[0]\n",
        "    return f\"Booked {chosen['airline']} flight from {from_city} to {to_city} on {date} for ${chosen['price']}.\"\n"
      ],
      "metadata": {
        "id": "57BPnrLyQcv6"
      },
      "execution_count": 34,
      "outputs": []
    },
    {
      "cell_type": "code",
      "source": [
        "from langchain_openai import ChatOpenAI\n",
        "from langchain.chains import RetrievalQA\n",
        "from langchain.agents import initialize_agent, AgentType\n",
        "\n",
        "# Build Agent with Orchestration\n",
        "# LLM\n",
        "llm = ChatOpenAI(model=\"gpt-4o\", temperature=0)\n",
        "\n",
        "# RAG Chain (for grounding answers)\n",
        "rag_chain = RetrievalQA.from_chain_type(\n",
        "    llm=llm,\n",
        "    retriever=retriever\n",
        ")"
      ],
      "metadata": {
        "id": "SS_zUIq-iqdW"
      },
      "execution_count": 52,
      "outputs": []
    },
    {
      "cell_type": "code",
      "source": [
        "# Tools: RAG + Email\n",
        "#tools = [\n",
        "#    rag_chain.as_tool(name=\"hr_policy_lookup\", description=\"Look up HR policy details\"),\n",
        "#    send_email,\n",
        "#    notify_slack,\n",
        "#    book_flight\n",
        "#]\n",
        "\n",
        "# Create AI Agent\n",
        "# Use AgentType.OPENAI_FUNCTIONS which supports multi-input tools.\n",
        "# Note: LangGraph's create_react_agent is the recommended approach for new implementations.\n",
        "#agent = initialize_agent(\n",
        "#    tools, llm,\n",
        "#    agent=AgentType.OPENAI_FUNCTIONS,\n",
        "#    verbose=True\n",
        "#)"
      ],
      "metadata": {
        "id": "w67AxQinivC2"
      },
      "execution_count": 53,
      "outputs": []
    },
    {
      "cell_type": "markdown",
      "source": [
        "**Autonomous Agent Loop**"
      ],
      "metadata": {
        "id": "ow3ZTTkcc7YZ"
      }
    },
    {
      "cell_type": "code",
      "source": [
        "def autonomous_agent(goal, max_steps=5):\n",
        "    \"\"\"\n",
        "    A simple AutoGPT-style loop.\n",
        "    The agent keeps reasoning, acting, and checking progress until the goal is done.\n",
        "    \"\"\"\n",
        "    memory = []\n",
        "\n",
        "    for step in range(max_steps):\n",
        "        print(f\"\\n🌀 Step {step+1} ------------------------\")\n",
        "\n",
        "        # Agent thinks what to do next\n",
        "        plan_prompt = f\"\"\"\n",
        "        Goal: {goal}\n",
        "        Memory so far: {memory}\n",
        "\n",
        "        Decide the NEXT ACTION.\n",
        "        Choose from: [hr_policy_lookup, send_email, notify_slack, FINISH]\n",
        "        Format: ACTION: action_name | ARGS: {{...}}\n",
        "        \"\"\"\n",
        "        action = llm.invoke(plan_prompt).content\n",
        "        print(\"🤔 Agent decided:\", action)\n",
        "\n",
        "        # Parse decision (very simple)\n",
        "        if \"FINISH\" in action:\n",
        "            print(\"✅ Goal achieved.\")\n",
        "            break\n",
        "        elif \"hr_policy_lookup\" in action:\n",
        "            result = hr_policy_lookup.invoke({\"query\": \"Summarize HR leave policy\"})\n",
        "        elif \"send_email\" in action:\n",
        "            result = send_email.invoke({\n",
        "                              \"to\": \"manager@example.com\",\n",
        "                              \"subject\": \"HR Policy\",\n",
        "                              \"body\": \"body text\"\n",
        "                             })\n",
        "        elif \"notify_slack\" in action:\n",
        "            result = notify_slack.invoke({\"channel\": \"#hr-updates\", \"message\": \"HR leave policy summary sent to manager@company.com.\"})\n",
        "        elif \"book_flight\" in action:\n",
        "            # result = book_flight(\"New York\", \"Chicago\", \"2023-09-15\", 300)\n",
        "            result = book_flight.invoke({\n",
        "                              \"from_city\": \"New York\",\n",
        "                              \"to_city\": \"Chicago\",\n",
        "                              \"date\": \"2023-09-15\",\n",
        "                              \"budget\": 300\n",
        "                             })\n",
        "        else:\n",
        "            result = \"Unknown action.\"\n",
        "\n",
        "        print(\"📌 Result:\", result)\n",
        "        memory.append({\"action\": action, \"result\": result})\n",
        "        time.sleep(2)  # avoid API rate limit\n"
      ],
      "metadata": {
        "id": "95BGLzTudAbK"
      },
      "execution_count": 50,
      "outputs": []
    },
    {
      "cell_type": "code",
      "source": [
        "# Run Autonomous Agent\n",
        "autonomous_agent(\"Summarize HR leave policy, email it to manager, and confirm in Slack\")"
      ],
      "metadata": {
        "colab": {
          "base_uri": "https://localhost:8080/"
        },
        "id": "eIn-IkjXfZur",
        "outputId": "5c9a7ddf-0460-4f58-f386-d1aedea19aba"
      },
      "execution_count": 51,
      "outputs": [
        {
          "output_type": "stream",
          "name": "stdout",
          "text": [
            "\n",
            "🌀 Step 1 ------------------------\n",
            "🤔 Agent decided: ACTION: hr_policy_lookup | ARGS: {}\n",
            "📌 Result: Employees are entitled to 20 paid leave days per year, and any unused leave cannot be carried forward to the next year. For sick leave, a doctor's certificate is required if the leave extends beyond 3 days.\n",
            "\n",
            "🌀 Step 2 ------------------------\n",
            "🤔 Agent decided: ACTION: send_email | ARGS: {\"to\": \"manager@example.com\", \"subject\": \"Summary of HR Leave Policy\", \"body\": \"Employees are entitled to 20 paid leave days per year, and any unused leave cannot be carried forward to the next year. For sick leave, a doctor's certificate is required if the leave extends beyond 3 days.\"}\n",
            "📧 Email sent to manager@example.com\n",
            "Subject: HR Policy\n",
            "Body: body text\n",
            "📌 Result: Email sent successfully.\n",
            "\n",
            "🌀 Step 3 ------------------------\n",
            "🤔 Agent decided: ACTION: notify_slack | ARGS: {\"channel\": \"#general\", \"message\": \"I have emailed the summary of the HR leave policy to the manager.\"}\n",
            "💬 Slack message to #hr-updates: HR leave policy summary sent to manager@company.com.\n",
            "📌 Result: Slack notification sent.\n",
            "\n",
            "🌀 Step 4 ------------------------\n",
            "🤔 Agent decided: ACTION: FINISH\n",
            "✅ Goal achieved.\n"
          ]
        }
      ]
    },
    {
      "cell_type": "markdown",
      "source": [
        "**Run Workflow Tasks**"
      ],
      "metadata": {
        "id": "X1O5BPmDYUmE"
      }
    },
    {
      "cell_type": "code",
      "source": [
        "# User query\n",
        "task1 = \"Summarize the HR leave policy and email it to deeparajasabeson@gmail.com, and then notify the #hr-updates Slack channel that the email was sent.\"\n",
        "\n",
        "response1 = agent.run(task1)\n",
        "print(\"🤖 Agent Response:\", response1)\n"
      ],
      "metadata": {
        "colab": {
          "base_uri": "https://localhost:8080/"
        },
        "id": "p3vuzmhWLPlD",
        "outputId": "cdab3050-e6fa-429d-bbb9-ac6efbb5aca0"
      },
      "execution_count": 43,
      "outputs": [
        {
          "output_type": "stream",
          "name": "stdout",
          "text": [
            "\n",
            "\n",
            "\u001b[1m> Entering new AgentExecutor chain...\u001b[0m\n",
            "\u001b[32;1m\u001b[1;3m\n",
            "Invoking: `hr_policy_lookup` with `{'query': 'leave policy'}`\n",
            "\n",
            "\n",
            "\u001b[0m\u001b[36;1m\u001b[1;3m{'query': 'leave policy', 'result': \"Employees are entitled to 20 paid leave days per year. Unused leave days cannot be carried forward to the next year. If an employee takes sick leave for more than 3 days, a doctor's certificate is required.\"}\u001b[0m\u001b[32;1m\u001b[1;3m\n",
            "Invoking: `send_email` with `{'to': 'deeparajasabeson@gmail.com', 'subject': 'HR Leave Policy Summary', 'body': \"Dear Deepa,\\n\\nHere is a summary of the HR leave policy:\\n\\n- Employees are entitled to 20 paid leave days per year.\\n- Unused leave days cannot be carried forward to the next year.\\n- If an employee takes sick leave for more than 3 days, a doctor's certificate is required.\\n\\nBest regards,\\nHR Team\"}`\n",
            "\n",
            "\n",
            "\u001b[0m📧 Email sent to deeparajasabeson@gmail.com\n",
            "Subject: HR Leave Policy Summary\n",
            "Body: Dear Deepa,\n",
            "\n",
            "Here is a summary of the HR leave policy:\n",
            "\n",
            "- Employees are entitled to 20 paid leave days per year.\n",
            "- Unused leave days cannot be carried forward to the next year.\n",
            "- If an employee takes sick leave for more than 3 days, a doctor's certificate is required.\n",
            "\n",
            "Best regards,\n",
            "HR Team\n",
            "\u001b[33;1m\u001b[1;3mEmail sent successfully.\u001b[0m\u001b[32;1m\u001b[1;3m\n",
            "Invoking: `notify_slack` with `{'channel': '#hr-updates', 'message': 'The HR leave policy summary has been emailed to Deepa Rajasabeson at deeparajasabeson@gmail.com.'}`\n",
            "\n",
            "\n",
            "\u001b[0m💬 Slack message to #hr-updates: The HR leave policy summary has been emailed to Deepa Rajasabeson at deeparajasabeson@gmail.com.\n",
            "\u001b[38;5;200m\u001b[1;3mSlack notification sent.\u001b[0m\u001b[32;1m\u001b[1;3mI have emailed the HR leave policy summary to Deepa Rajasabeson at deeparajasabeson@gmail.com and notified the #hr-updates Slack channel that the email was sent.\u001b[0m\n",
            "\n",
            "\u001b[1m> Finished chain.\u001b[0m\n",
            "🤖 Agent Response: I have emailed the HR leave policy summary to Deepa Rajasabeson at deeparajasabeson@gmail.com and notified the #hr-updates Slack channel that the email was sent.\n"
          ]
        }
      ]
    },
    {
      "cell_type": "markdown",
      "source": [
        "🔹 What Happens Here\n",
        "\n",
        "\n",
        "1.   Agent reads task → realizes it needs HR leave policy + email.\n",
        "2.   Calls RAG retriever → fetches leave rules.\n",
        "3.   Summarizes via LLM.\n",
        "4.   Uses email tool → sends summary.\n",
        "5.   Returns confirmation."
      ],
      "metadata": {
        "id": "per-WPU6OFDr"
      }
    },
    {
      "cell_type": "markdown",
      "source": [
        "# **🔑 Key Takeaways**\n",
        "\n",
        "*   **RAG** ensures the content (HR policy) is factually grounded.\n",
        "*   **Agent reasoning** decides the order:\n",
        "1. Fetch → 2. Summarize → 3. Email → 4. Slack.\n",
        "*   **Multi-tool orchestration** = enterprise-ready workflow (HR, IT, Finance bots).\n",
        "*   You can replace mock tools with real APIs (e.g., Gmail API, Slack API).\n",
        "\n"
      ],
      "metadata": {
        "id": "JBW8AId1YxyD"
      }
    },
    {
      "cell_type": "code",
      "source": [
        "task2 = \"Book me a flight from New York to Chicago next Friday under $300.\"\n",
        "response2 = agent.run(task2)\n",
        "print(\"🤖 Response:\", response2)\n"
      ],
      "metadata": {
        "colab": {
          "base_uri": "https://localhost:8080/"
        },
        "id": "Fsu17bEQRWUa",
        "outputId": "8b53fd67-ea23-42ea-983c-adf63e9098a5"
      },
      "execution_count": 37,
      "outputs": [
        {
          "output_type": "stream",
          "name": "stdout",
          "text": [
            "\n",
            "\n",
            "\u001b[1m> Entering new AgentExecutor chain...\u001b[0m\n",
            "\u001b[32;1m\u001b[1;3m\n",
            "Invoking: `book_flight` with `{'from_city': 'New York', 'to_city': 'Chicago', 'date': '2023-11-10', 'budget': 300}`\n",
            "\n",
            "\n",
            "\u001b[0m\u001b[38;5;200m\u001b[1;3mBooked AirOne flight from New York to Chicago on 2023-11-10 for $250.\u001b[0m\u001b[32;1m\u001b[1;3mYour flight from New York to Chicago on November 10th has been successfully booked for $250 with AirOne.\u001b[0m\n",
            "\n",
            "\u001b[1m> Finished chain.\u001b[0m\n",
            "🤖 Response: Your flight from New York to Chicago on November 10th has been successfully booked for $250 with AirOne.\n"
          ]
        }
      ]
    },
    {
      "cell_type": "markdown",
      "source": [
        "# 🔑 Key Takeaways\n",
        "\n",
        "**RAG** = knowledge grounding.\n",
        "\n",
        "**Agent** = orchestrates tools + reasoning.\n",
        "\n",
        "Adding tools (Email, Flight API, Database, Slack bot, etc.) makes the Agent more autonomous.\n",
        "\n",
        "In production → replace book_flight with a real API call."
      ],
      "metadata": {
        "id": "B3XnAPEtRbat"
      }
    }
  ]
}