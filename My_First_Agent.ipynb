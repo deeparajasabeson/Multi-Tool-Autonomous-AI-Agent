{
  "nbformat": 4,
  "nbformat_minor": 0,
  "metadata": {
    "colab": {
      "provenance": []
    },
    "kernelspec": {
      "name": "python3",
      "display_name": "Python 3"
    },
    "language_info": {
      "name": "python"
    }
  },
  "cells": [
    {
      "cell_type": "code",
      "execution_count": null,
      "metadata": {
        "colab": {
          "base_uri": "https://localhost:8080/"
        },
        "id": "EwPFc7W-BRR4",
        "outputId": "5db7a1b2-943b-4716-cc97-4fb8e4b98401"
      },
      "outputs": [
        {
          "output_type": "stream",
          "name": "stdout",
          "text": [
            "Requirement already satisfied: langchain in /usr/local/lib/python3.12/dist-packages (0.3.27)\n",
            "Requirement already satisfied: langchain-openai in /usr/local/lib/python3.12/dist-packages (0.3.32)\n",
            "Requirement already satisfied: faiss-cpu in /usr/local/lib/python3.12/dist-packages (1.12.0)\n",
            "Requirement already satisfied: openai in /usr/local/lib/python3.12/dist-packages (1.106.0)\n",
            "Requirement already satisfied: langchain-core<1.0.0,>=0.3.72 in /usr/local/lib/python3.12/dist-packages (from langchain) (0.3.75)\n",
            "Requirement already satisfied: langchain-text-splitters<1.0.0,>=0.3.9 in /usr/local/lib/python3.12/dist-packages (from langchain) (0.3.11)\n",
            "Requirement already satisfied: langsmith>=0.1.17 in /usr/local/lib/python3.12/dist-packages (from langchain) (0.4.23)\n",
            "Requirement already satisfied: pydantic<3.0.0,>=2.7.4 in /usr/local/lib/python3.12/dist-packages (from langchain) (2.11.7)\n",
            "Requirement already satisfied: SQLAlchemy<3,>=1.4 in /usr/local/lib/python3.12/dist-packages (from langchain) (2.0.43)\n",
            "Requirement already satisfied: requests<3,>=2 in /usr/local/lib/python3.12/dist-packages (from langchain) (2.32.4)\n",
            "Requirement already satisfied: PyYAML>=5.3 in /usr/local/lib/python3.12/dist-packages (from langchain) (6.0.2)\n",
            "Requirement already satisfied: tiktoken<1,>=0.7 in /usr/local/lib/python3.12/dist-packages (from langchain-openai) (0.11.0)\n",
            "Requirement already satisfied: numpy<3.0,>=1.25.0 in /usr/local/lib/python3.12/dist-packages (from faiss-cpu) (2.0.2)\n",
            "Requirement already satisfied: packaging in /usr/local/lib/python3.12/dist-packages (from faiss-cpu) (25.0)\n",
            "Requirement already satisfied: anyio<5,>=3.5.0 in /usr/local/lib/python3.12/dist-packages (from openai) (4.10.0)\n",
            "Requirement already satisfied: distro<2,>=1.7.0 in /usr/local/lib/python3.12/dist-packages (from openai) (1.9.0)\n",
            "Requirement already satisfied: httpx<1,>=0.23.0 in /usr/local/lib/python3.12/dist-packages (from openai) (0.28.1)\n",
            "Requirement already satisfied: jiter<1,>=0.4.0 in /usr/local/lib/python3.12/dist-packages (from openai) (0.10.0)\n",
            "Requirement already satisfied: sniffio in /usr/local/lib/python3.12/dist-packages (from openai) (1.3.1)\n",
            "Requirement already satisfied: tqdm>4 in /usr/local/lib/python3.12/dist-packages (from openai) (4.67.1)\n",
            "Requirement already satisfied: typing-extensions<5,>=4.11 in /usr/local/lib/python3.12/dist-packages (from openai) (4.15.0)\n",
            "Requirement already satisfied: idna>=2.8 in /usr/local/lib/python3.12/dist-packages (from anyio<5,>=3.5.0->openai) (3.10)\n",
            "Requirement already satisfied: certifi in /usr/local/lib/python3.12/dist-packages (from httpx<1,>=0.23.0->openai) (2025.8.3)\n",
            "Requirement already satisfied: httpcore==1.* in /usr/local/lib/python3.12/dist-packages (from httpx<1,>=0.23.0->openai) (1.0.9)\n",
            "Requirement already satisfied: h11>=0.16 in /usr/local/lib/python3.12/dist-packages (from httpcore==1.*->httpx<1,>=0.23.0->openai) (0.16.0)\n",
            "Requirement already satisfied: tenacity!=8.4.0,<10.0.0,>=8.1.0 in /usr/local/lib/python3.12/dist-packages (from langchain-core<1.0.0,>=0.3.72->langchain) (8.5.0)\n",
            "Requirement already satisfied: jsonpatch<2.0,>=1.33 in /usr/local/lib/python3.12/dist-packages (from langchain-core<1.0.0,>=0.3.72->langchain) (1.33)\n",
            "Requirement already satisfied: orjson>=3.9.14 in /usr/local/lib/python3.12/dist-packages (from langsmith>=0.1.17->langchain) (3.11.3)\n",
            "Requirement already satisfied: requests-toolbelt>=1.0.0 in /usr/local/lib/python3.12/dist-packages (from langsmith>=0.1.17->langchain) (1.0.0)\n",
            "Requirement already satisfied: zstandard>=0.23.0 in /usr/local/lib/python3.12/dist-packages (from langsmith>=0.1.17->langchain) (0.24.0)\n",
            "Requirement already satisfied: annotated-types>=0.6.0 in /usr/local/lib/python3.12/dist-packages (from pydantic<3.0.0,>=2.7.4->langchain) (0.7.0)\n",
            "Requirement already satisfied: pydantic-core==2.33.2 in /usr/local/lib/python3.12/dist-packages (from pydantic<3.0.0,>=2.7.4->langchain) (2.33.2)\n",
            "Requirement already satisfied: typing-inspection>=0.4.0 in /usr/local/lib/python3.12/dist-packages (from pydantic<3.0.0,>=2.7.4->langchain) (0.4.1)\n",
            "Requirement already satisfied: charset_normalizer<4,>=2 in /usr/local/lib/python3.12/dist-packages (from requests<3,>=2->langchain) (3.4.3)\n",
            "Requirement already satisfied: urllib3<3,>=1.21.1 in /usr/local/lib/python3.12/dist-packages (from requests<3,>=2->langchain) (2.5.0)\n",
            "Requirement already satisfied: greenlet>=1 in /usr/local/lib/python3.12/dist-packages (from SQLAlchemy<3,>=1.4->langchain) (3.2.4)\n",
            "Requirement already satisfied: regex>=2022.1.18 in /usr/local/lib/python3.12/dist-packages (from tiktoken<1,>=0.7->langchain-openai) (2024.11.6)\n",
            "Requirement already satisfied: jsonpointer>=1.9 in /usr/local/lib/python3.12/dist-packages (from jsonpatch<2.0,>=1.33->langchain-core<1.0.0,>=0.3.72->langchain) (3.0.0)\n"
          ]
        }
      ],
      "source": [
        "pip install langchain langchain-openai faiss-cpu openai\n",
        "pip install -U langchain-community\n"
      ]
    },
    {
      "cell_type": "code",
      "source": [
        "import os\n",
        "from google.colab import userdata\n",
        "os.environ[\"OPENAI_API_KEY\"] = userdata.get(\"OPENAI_APIKEY\")"
      ],
      "metadata": {
        "id": "ZQaZRRVCDZu9"
      },
      "execution_count": null,
      "outputs": []
    },
    {
      "cell_type": "code",
      "source": [
        "# Load documents & create vector store (RAG setup)\n",
        "from langchain_openai import OpenAIEmbeddings\n",
        "from langchain_community.vectorstores import FAISS # Import FAISS from langchain_community\n",
        "from langchain.text_splitter import CharacterTextSplitter\n",
        "from langchain.docstore.document import Document"
      ],
      "metadata": {
        "id": "AaB0GtbABqlU"
      },
      "execution_count": null,
      "outputs": []
    },
    {
      "cell_type": "code",
      "source": [
        "# Example HR policy text\n",
        "hr_policy = \"\"\"\n",
        "Employees are entitled to 20 paid leave days per year.\n",
        "Unused leaves cannot be carried forward.\n",
        "Sick leave requires a doctor’s certificate if more than 3 days.\n",
        "\"\"\"\n",
        "\n",
        "# Split into chunks\n",
        "splitter = CharacterTextSplitter(chunk_size=200, chunk_overlap=20)\n",
        "docs = splitter.split_documents([Document(page_content=hr_policy)])"
      ],
      "metadata": {
        "id": "9-9I3Xi1CPfw"
      },
      "execution_count": null,
      "outputs": []
    },
    {
      "cell_type": "code",
      "source": [
        "# Create embeddings + vector store\n",
        "embeddings = OpenAIEmbeddings(model=\"text-embedding-3-small\")\n",
        "vectorstore = FAISS.from_documents(docs, embeddings)\n",
        "\n",
        "# Create retriever for RAG\n",
        "retriever = vectorstore.as_retriever()"
      ],
      "metadata": {
        "id": "cZgtVtdQCcIg"
      },
      "execution_count": null,
      "outputs": []
    },
    {
      "cell_type": "code",
      "source": [
        "from langchain.agents import tool\n",
        "\n",
        "@tool\n",
        "def send_email(to: str, subject: str, body: str):\n",
        "    \"\"\"Send an email to the given address with subject and body.\"\"\"\n",
        "    print(f\"📧 Email sent to {to}\\nSubject: {subject}\\nBody: {body}\")\n",
        "    return \"Email sent successfully.\"\n"
      ],
      "metadata": {
        "id": "7jOORAMdK3lt"
      },
      "execution_count": null,
      "outputs": []
    },
    {
      "cell_type": "code",
      "source": [
        "from langchain_openai import ChatOpenAI\n",
        "from langchain.chains import RetrievalQA\n",
        "from langchain.agents import initialize_agent, AgentType\n",
        "\n",
        "# LLM\n",
        "llm = ChatOpenAI(model=\"gpt-4o\", temperature=0)\n",
        "\n",
        "# RAG Chain (for grounding answers)\n",
        "rag_chain = RetrievalQA.from_chain_type(\n",
        "    llm=llm,\n",
        "    retriever=retriever\n",
        ")\n",
        "\n",
        "# Tools: RAG + Email\n",
        "tools = [\n",
        "    rag_chain.as_tool(name=\"hr_policy_lookup\", description=\"Look up HR policy details\"),\n",
        "    send_email\n",
        "]\n",
        "\n",
        "# Create AI Agent\n",
        "# Use AgentType.OPENAI_FUNCTIONS which supports multi-input tools.\n",
        "# Note: LangGraph's create_react_agent is the recommended approach for new implementations.\n",
        "agent = initialize_agent(\n",
        "    tools, llm,\n",
        "    agent=AgentType.OPENAI_FUNCTIONS,\n",
        "    verbose=True\n",
        ")"
      ],
      "metadata": {
        "id": "KfR8P9vTK8kg"
      },
      "execution_count": null,
      "outputs": []
    },
    {
      "cell_type": "code",
      "source": [
        "# User query\n",
        "task = \"Summarize the HR leave policy and email it to deeparajasabeson@gmail.com\"\n",
        "\n",
        "response = agent.run(task)\n",
        "print(\"🤖 Agent Response:\", response)\n"
      ],
      "metadata": {
        "colab": {
          "base_uri": "https://localhost:8080/"
        },
        "id": "p3vuzmhWLPlD",
        "outputId": "56e272d9-82ac-4409-fd67-322edc1354fe"
      },
      "execution_count": null,
      "outputs": [
        {
          "output_type": "stream",
          "name": "stderr",
          "text": [
            "/tmp/ipython-input-3712184761.py:4: LangChainDeprecationWarning: The method `Chain.run` was deprecated in langchain 0.1.0 and will be removed in 1.0. Use :meth:`~invoke` instead.\n",
            "  response = agent.run(task)\n"
          ]
        },
        {
          "output_type": "stream",
          "name": "stdout",
          "text": [
            "\n",
            "\n",
            "\u001b[1m> Entering new AgentExecutor chain...\u001b[0m\n",
            "\u001b[32;1m\u001b[1;3m\n",
            "Invoking: `hr_policy_lookup` with `{'query': 'leave policy'}`\n",
            "\n",
            "\n",
            "\u001b[0m\u001b[36;1m\u001b[1;3m{'query': 'leave policy', 'result': \"Employees are entitled to 20 paid leave days per year. Unused leave days cannot be carried forward to the next year. If an employee takes sick leave for more than 3 days, a doctor's certificate is required.\"}\u001b[0m\u001b[32;1m\u001b[1;3m\n",
            "Invoking: `send_email` with `{'to': 'deeparajasabeson@gmail.com', 'subject': 'Summary of HR Leave Policy', 'body': \"Dear Deepa,\\n\\nHere is a summary of the HR leave policy:\\n\\n- Employees are entitled to 20 paid leave days per year.\\n- Unused leave days cannot be carried forward to the next year.\\n- If an employee takes sick leave for more than 3 days, a doctor's certificate is required.\\n\\nBest regards,\\nHR Team\"}`\n",
            "\n",
            "\n",
            "\u001b[0m📧 Email sent to deeparajasabeson@gmail.com\n",
            "Subject: Summary of HR Leave Policy\n",
            "Body: Dear Deepa,\n",
            "\n",
            "Here is a summary of the HR leave policy:\n",
            "\n",
            "- Employees are entitled to 20 paid leave days per year.\n",
            "- Unused leave days cannot be carried forward to the next year.\n",
            "- If an employee takes sick leave for more than 3 days, a doctor's certificate is required.\n",
            "\n",
            "Best regards,\n",
            "HR Team\n",
            "\u001b[33;1m\u001b[1;3mEmail sent successfully.\u001b[0m\u001b[32;1m\u001b[1;3mI have emailed the summary of the HR leave policy to deeparajasabeson@gmail.com.\u001b[0m\n",
            "\n",
            "\u001b[1m> Finished chain.\u001b[0m\n",
            "🤖 Agent Response: I have emailed the summary of the HR leave policy to deeparajasabeson@gmail.com.\n"
          ]
        }
      ]
    }
  ]
}